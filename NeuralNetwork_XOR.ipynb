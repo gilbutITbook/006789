{
  "nbformat": 4,
  "nbformat_minor": 0,
  "metadata": {
    "colab": {
      "name": "NeuralNetwork_XOR.ipynb",
      "provenance": [],
      "authorship_tag": "ABX9TyP0y+jPWM0aaz+NY6ESBxs4",
      "include_colab_link": true
    },
    "kernelspec": {
      "name": "python3",
      "display_name": "Python 3"
    }
  },
  "cells": [
    {
      "cell_type": "markdown",
      "metadata": {
        "id": "view-in-github",
        "colab_type": "text"
      },
      "source": [
        "<a href=\"https://colab.research.google.com/github/kslim1025/Tensorflow_Clab/blob/master/NeuralNetwork_XOR.ipynb\" target=\"_parent\"><img src=\"https://colab.research.google.com/assets/colab-badge.svg\" alt=\"Open In Colab\"/></a>"
      ]
    },
    {
      "cell_type": "code",
      "metadata": {
        "id": "1xLs8OxOpuT6",
        "colab_type": "code",
        "colab": {
          "base_uri": "https://localhost:8080/",
          "height": 187
        },
        "outputId": "1c05994d-1c12-4ce4-a143-1a5a7d4d3f56"
      },
      "source": [
        "#ctrl+enter를 사용한 런타임가능\n",
        "try:\n",
        "  # %tensorflow_version only exists in Colab\n",
        "  %tensorflow_version 2.x\n",
        "except Exception:\n",
        "  pass\n",
        "# 넘파이는 수학과 과학 연산에 특화된 파이썬 모듈로 딥러닝에서도 유용하게 사용된다.\n",
        "import numpy as np;\n",
        "import tensorflow as tf;\n",
        "import math as mt;\n",
        "\n",
        "x = np.array([[1,1], [1,0], [0,1], [0,0]]);\n",
        "y = np.array([[0], [1], [1], [0]]);\n",
        "\n",
        "w = tf.random.normal([2],0,1);\n",
        "b = tf.random.normal([1],0,1);\n",
        "b_x = 1\n",
        "\n",
        "for i in range(2000):\n",
        "  error_sum = 0;\n",
        "\n",
        "  for j in range(4):\n",
        "    output = sigmoid(np.sum(x[j]*w)+b_x*b);\n",
        "    error = y[j][0] - output;\n",
        "    w = w + x[j] * 0.1 * error\n",
        "    b = b * b_x * 0.1 * error\n",
        "    error_sum += error;\n",
        "\n",
        "  if i%200 ==199:\n",
        "    print(i, error_sum)\n",
        "\n"
      ],
      "execution_count": 7,
      "outputs": [
        {
          "output_type": "stream",
          "text": [
            "199 -1.0084738880612698\n",
            "399 -1.008473737871678\n",
            "599 -1.0084737378717785\n",
            "799 -1.0084737378717785\n",
            "999 -1.0084737378717785\n",
            "1199 -1.0084737378717785\n",
            "1399 -1.0084737378717785\n",
            "1599 -1.0084737378717785\n",
            "1799 -1.0084737378717785\n",
            "1999 -1.0084737378717785\n"
          ],
          "name": "stdout"
        }
      ]
    }
  ]
}