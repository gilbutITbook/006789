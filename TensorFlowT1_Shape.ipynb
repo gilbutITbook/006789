{
  "nbformat": 4,
  "nbformat_minor": 0,
  "metadata": {
    "colab": {
      "name": "TensorFlowT1_Shape.ipynb",
      "provenance": [],
      "collapsed_sections": [],
      "authorship_tag": "ABX9TyNFbzKkFksaI6wFJCotNTSo",
      "include_colab_link": true
    },
    "kernelspec": {
      "name": "python3",
      "display_name": "Python 3"
    }
  },
  "cells": [
    {
      "cell_type": "markdown",
      "metadata": {
        "id": "view-in-github",
        "colab_type": "text"
      },
      "source": [
        "<a href=\"https://colab.research.google.com/github/kslim1025/Tensorflow_Clab/blob/master/TensorFlowT1_Shape.ipynb\" target=\"_parent\"><img src=\"https://colab.research.google.com/assets/colab-badge.svg\" alt=\"Open In Colab\"/></a>"
      ]
    },
    {
      "cell_type": "code",
      "metadata": {
        "id": "y_hb40psUEPY",
        "colab_type": "code",
        "colab": {
          "base_uri": "https://localhost:8080/",
          "height": 51
        },
        "outputId": "f804fe93-4bb2-413f-85ee-b65ea3064f36"
      },
      "source": [
        "#ctrl+enter를 사용한 런타임가능\n",
        "try:\n",
        "  # %tensorflow_version only exists in Colab\n",
        "  %tensorflow_version 2.x\n",
        "except Exception:\n",
        "  pass\n",
        "import tensorflow as tf;\n",
        "print(tf.__version__)\n",
        "# [1] == shape , shape는 행렬을 구성하는 행, 열 등 차원의 수를 나타내는 값입니다.\n",
        "# 0과 1은 각각 최소값 최대값을 의미합니다.\n",
        "# 파이썬에서는 변하지 않는 값에 대해 대괄호 대신 소괄호 (())로 묶는 튜플(tuple) 자료형을 사용합니다\n",
        "# 마지막에 출력되는 dtype은 자료형을 의미합니다.\n",
        "rand = tf.random.uniform([1],0,1)\n",
        "print(rand)"
      ],
      "execution_count": 16,
      "outputs": [
        {
          "output_type": "stream",
          "text": [
            "2.3.0\n",
            "tf.Tensor([0.41170847], shape=(1,), dtype=float32)\n"
          ],
          "name": "stdout"
        }
      ]
    }
  ]
}