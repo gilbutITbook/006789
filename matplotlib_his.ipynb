{
  "nbformat": 4,
  "nbformat_minor": 0,
  "metadata": {
    "colab": {
      "name": "matplotlib_his.ipynb",
      "provenance": [],
      "authorship_tag": "ABX9TyNCxnMaBFC3kxnc3iAuFRWA",
      "include_colab_link": true
    },
    "kernelspec": {
      "name": "python3",
      "display_name": "Python 3"
    }
  },
  "cells": [
    {
      "cell_type": "markdown",
      "metadata": {
        "id": "view-in-github",
        "colab_type": "text"
      },
      "source": [
        "<a href=\"https://colab.research.google.com/github/kslim1025/Tensorflow_Clab/blob/master/matplotlib_his.ipynb\" target=\"_parent\"><img src=\"https://colab.research.google.com/assets/colab-badge.svg\" alt=\"Open In Colab\"/></a>"
      ]
    },
    {
      "cell_type": "code",
      "metadata": {
        "id": "LRgyPno7u6uI",
        "colab_type": "code",
        "colab": {
          "base_uri": "https://localhost:8080/",
          "height": 279
        },
        "outputId": "89512eb0-524e-4d97-c8a0-60e2a00cc16f"
      },
      "source": [
        "#ctrl+enter를 사용한 런타임가능\n",
        "try:\n",
        "  # %tensorflow_version only exists in Colab\n",
        "  %tensorflow_version 2.x\n",
        "except Exception:\n",
        "  pass\n",
        "# 넘파이는 수학과 과학 연산에 특화된 파이썬 모듈로 딥러닝에서도 유용하게 사용된다.\n",
        "import tensorflow as tf;\n",
        "import matplotlib.pyplot as plt;\n",
        "from keras.datasets import mnist\n",
        "from keras.utils import np_utils\n",
        "from keras.models import Sequential\n",
        "from keras.layers import Dense\n",
        "\n",
        "#고령화로 인한 인구 감소에 대한 분석\n",
        "population_inc = [0.3 , -0.78, 1.26, 0.03, 1.11, 15,17, 0.24, -0.24, -0.47, -0.77, -0.37, -0.85, -0.41, -0.27, 0.02, -0.76, 2.66];\n",
        "\n",
        "population_old = [12.27, 14,44, 11.87, 18.75, 17.52, 9.29, 16.37, 19.78, 19.51, 12.65, 14.74, 10.27, 21.94, 12.83, 15.51, 17.14, 14.42];\n",
        "\n",
        "plt.plot(population_inc, population_old,'bo');\n",
        "#X측 라벨과 Y축 라벨\n",
        "plt.xlabel(\"Population Growth Rate\");\n",
        "plt.ylabel(\"Elderly Poluation Rate\");\n",
        "plt.show();"
      ],
      "execution_count": 16,
      "outputs": [
        {
          "output_type": "display_data",
          "data": {
            "image/png": "[encoded data removed]",
            "text/plain": [
              "<Figure size 432x288 with 1 Axes>"
            ]
          },
          "metadata": {
            "tags": [],
            "needs_background": "light"
          }
        }
      ]
    }
  ]
}