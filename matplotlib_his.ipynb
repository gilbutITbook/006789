{
  "nbformat": 4,
  "nbformat_minor": 0,
  "metadata": {
    "colab": {
      "name": "matplotlib_his.ipynb",
      "provenance": [],
      "authorship_tag": "ABX9TyN3NIE2vRgGjkskY3sSlPDC",
      "include_colab_link": true
    },
    "kernelspec": {
      "name": "python3",
      "display_name": "Python 3"
    }
  },
  "cells": [
    {
      "cell_type": "markdown",
      "metadata": {
        "id": "view-in-github",
        "colab_type": "text"
      },
      "source": [
        "<a href=\"https://colab.research.google.com/github/kslim1025/Tensorflow_Clab/blob/master/matplotlib_his.ipynb\" target=\"_parent\"><img src=\"https://colab.research.google.com/assets/colab-badge.svg\" alt=\"Open In Colab\"/></a>"
      ]
    },
    {
      "cell_type": "code",
      "metadata": {
        "id": "LRgyPno7u6uI",
        "colab_type": "code",
        "colab": {
          "base_uri": "https://localhost:8080/",
          "height": 1000
        },
        "outputId": "b86f0451-3362-4a75-80c4-b9f2916a4157"
      },
      "source": [
        "#ctrl+enter를 사용한 런타임가능\n",
        "try:\n",
        "  # %tensorflow_version only exists in Colab\n",
        "  %tensorflow_version 2.x\n",
        "except Exception:\n",
        "  pass\n",
        "# 넘파이는 수학과 과학 연산에 특화된 파이썬 모듈로 딥러닝에서도 유용하게 사용된다.\n",
        "import tensorflow as tf;\n",
        "import matplotlib.pyplot as plt;\n",
        "from keras.datasets import mnist\n",
        "from keras.utils import np_utils\n",
        "from keras.models import Sequential\n",
        "from keras.layers import Dense\n",
        "\n",
        "(X_train, Y_train), (X_validation, Y_validation) = mnist.load_data()\n",
        "\n",
        "X_train = X_train.reshape(X_train.shape[0], 784).astype('float64') / 255\n",
        "X_validation = X_validation.reshape(X_validation.shape[0], 784).astype('float64') / 255\n",
        "\n",
        "Y_train = np_utils.to_categorical(Y_train, 10)\n",
        "Y_validation = np_utils.to_categorical(Y_validation, 10)\n",
        "\n",
        "model = Sequential()\n",
        "model.add(Dense(512, input_dim=784, activation='relu'))\n",
        "model.add(Dense(10, activation='softmax'))\n",
        "\n",
        "model.compile(loss='categorical_crossentropy', optimizer='adam',\n",
        "              metrics=['accuracy'])\n",
        "\n",
        "hist = model.fit(X_train, Y_train, validation_data=(X_validation, Y_validation),epochs=30, batch_size=500)\n",
        "\n",
        "print(hist.history['loss']);\n",
        "plt.plot(hist.history['loss'] );\n",
        "#plt.show();"
      ],
      "execution_count": 15,
      "outputs": [
        {
          "output_type": "stream",
          "text": [
            "Downloading data from https://storage.googleapis.com/tensorflow/tf-keras-datasets/mnist.npz\n",
            "11493376/11490434 [==============================] - 0s 0us/step\n",
            "Epoch 1/30\n",
            "120/120 [==============================] - 3s 23ms/step - loss: 0.4128 - accuracy: 0.8876 - val_loss: 0.2023 - val_accuracy: 0.9429\n",
            "Epoch 2/30\n",
            "120/120 [==============================] - 3s 21ms/step - loss: 0.1729 - accuracy: 0.9506 - val_loss: 0.1414 - val_accuracy: 0.9580\n",
            "Epoch 3/30\n",
            "120/120 [==============================] - 3s 21ms/step - loss: 0.1240 - accuracy: 0.9647 - val_loss: 0.1163 - val_accuracy: 0.9650\n",
            "Epoch 4/30\n",
            "120/120 [==============================] - 3s 22ms/step - loss: 0.0932 - accuracy: 0.9735 - val_loss: 0.0973 - val_accuracy: 0.9721\n",
            "Epoch 5/30\n",
            "120/120 [==============================] - 3s 21ms/step - loss: 0.0740 - accuracy: 0.9794 - val_loss: 0.0854 - val_accuracy: 0.9743\n",
            "Epoch 6/30\n",
            "120/120 [==============================] - 3s 21ms/step - loss: 0.0597 - accuracy: 0.9833 - val_loss: 0.0764 - val_accuracy: 0.9769\n",
            "Epoch 7/30\n",
            "120/120 [==============================] - 3s 21ms/step - loss: 0.0492 - accuracy: 0.9865 - val_loss: 0.0709 - val_accuracy: 0.9782\n",
            "Epoch 8/30\n",
            "120/120 [==============================] - 3s 22ms/step - loss: 0.0404 - accuracy: 0.9893 - val_loss: 0.0670 - val_accuracy: 0.9793\n",
            "Epoch 9/30\n",
            "120/120 [==============================] - 3s 21ms/step - loss: 0.0338 - accuracy: 0.9914 - val_loss: 0.0676 - val_accuracy: 0.9792\n",
            "Epoch 10/30\n",
            "120/120 [==============================] - 3s 21ms/step - loss: 0.0283 - accuracy: 0.9932 - val_loss: 0.0630 - val_accuracy: 0.9804\n",
            "Epoch 11/30\n",
            "120/120 [==============================] - 3s 21ms/step - loss: 0.0238 - accuracy: 0.9950 - val_loss: 0.0649 - val_accuracy: 0.9807\n",
            "Epoch 12/30\n",
            "120/120 [==============================] - 3s 21ms/step - loss: 0.0205 - accuracy: 0.9957 - val_loss: 0.0633 - val_accuracy: 0.9796\n",
            "Epoch 13/30\n",
            "120/120 [==============================] - 3s 22ms/step - loss: 0.0171 - accuracy: 0.9966 - val_loss: 0.0603 - val_accuracy: 0.9811\n",
            "Epoch 14/30\n",
            "120/120 [==============================] - 3s 21ms/step - loss: 0.0138 - accuracy: 0.9979 - val_loss: 0.0597 - val_accuracy: 0.9814\n",
            "Epoch 15/30\n",
            "120/120 [==============================] - 3s 21ms/step - loss: 0.0117 - accuracy: 0.9984 - val_loss: 0.0610 - val_accuracy: 0.9811\n",
            "Epoch 16/30\n",
            "120/120 [==============================] - 3s 22ms/step - loss: 0.0099 - accuracy: 0.9989 - val_loss: 0.0580 - val_accuracy: 0.9827\n",
            "Epoch 17/30\n",
            "120/120 [==============================] - 3s 22ms/step - loss: 0.0082 - accuracy: 0.9992 - val_loss: 0.0588 - val_accuracy: 0.9817\n",
            "Epoch 18/30\n",
            "120/120 [==============================] - 3s 22ms/step - loss: 0.0072 - accuracy: 0.9993 - val_loss: 0.0614 - val_accuracy: 0.9807\n",
            "Epoch 19/30\n",
            "120/120 [==============================] - 3s 21ms/step - loss: 0.0058 - accuracy: 0.9997 - val_loss: 0.0583 - val_accuracy: 0.9815\n",
            "Epoch 20/30\n",
            "120/120 [==============================] - 3s 22ms/step - loss: 0.0051 - accuracy: 0.9997 - val_loss: 0.0594 - val_accuracy: 0.9812\n",
            "Epoch 21/30\n",
            "120/120 [==============================] - 3s 21ms/step - loss: 0.0044 - accuracy: 0.9998 - val_loss: 0.0597 - val_accuracy: 0.9831\n",
            "Epoch 22/30\n",
            "120/120 [==============================] - 3s 22ms/step - loss: 0.0037 - accuracy: 0.9999 - val_loss: 0.0607 - val_accuracy: 0.9827\n",
            "Epoch 23/30\n",
            "120/120 [==============================] - 3s 22ms/step - loss: 0.0032 - accuracy: 0.9999 - val_loss: 0.0595 - val_accuracy: 0.9827\n",
            "Epoch 24/30\n",
            "120/120 [==============================] - 3s 22ms/step - loss: 0.0028 - accuracy: 0.9999 - val_loss: 0.0609 - val_accuracy: 0.9826\n",
            "Epoch 25/30\n",
            "120/120 [==============================] - 3s 22ms/step - loss: 0.0024 - accuracy: 1.0000 - val_loss: 0.0598 - val_accuracy: 0.9822\n",
            "Epoch 26/30\n",
            "120/120 [==============================] - 3s 21ms/step - loss: 0.0022 - accuracy: 1.0000 - val_loss: 0.0609 - val_accuracy: 0.9830\n",
            "Epoch 27/30\n",
            "120/120 [==============================] - 3s 22ms/step - loss: 0.0019 - accuracy: 0.9999 - val_loss: 0.0619 - val_accuracy: 0.9825\n",
            "Epoch 28/30\n",
            "120/120 [==============================] - 3s 22ms/step - loss: 0.0017 - accuracy: 1.0000 - val_loss: 0.0623 - val_accuracy: 0.9830\n",
            "Epoch 29/30\n",
            "120/120 [==============================] - 3s 21ms/step - loss: 0.0015 - accuracy: 1.0000 - val_loss: 0.0618 - val_accuracy: 0.9827\n",
            "Epoch 30/30\n",
            "120/120 [==============================] - 3s 22ms/step - loss: 0.0014 - accuracy: 1.0000 - val_loss: 0.0636 - val_accuracy: 0.9822\n",
            "[0.41276317834854126, 0.1728857457637787, 0.12404309213161469, 0.09315244853496552, 0.0740189179778099, 0.05972127616405487, 0.04924747720360756, 0.04044492170214653, 0.033768657594919205, 0.02826000191271305, 0.023779112845659256, 0.02050703391432762, 0.017073173075914383, 0.013763760216534138, 0.011716103181242943, 0.009885504841804504, 0.008236573077738285, 0.007203345652669668, 0.005795476492494345, 0.0050639258697628975, 0.004446442238986492, 0.003734445432201028, 0.0031875555869191885, 0.0027565329801291227, 0.002408077474683523, 0.0021952625829726458, 0.001948695513419807, 0.0016968740383163095, 0.0015025465982034802, 0.001427741488441825]\n"
          ],
          "name": "stdout"
        },
        {
          "output_type": "display_data",
          "data": {
            "image/png": "[encoded data removed]",
            "text/plain": [
              "<Figure size 432x288 with 1 Axes>"
            ]
          },
          "metadata": {
            "tags": [],
            "needs_background": "light"
          }
        }
      ]
    }
  ]
}