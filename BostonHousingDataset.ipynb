{
  "nbformat": 4,
  "nbformat_minor": 0,
  "metadata": {
    "colab": {
      "name": "BostonHousingDataset.ipynb",
      "provenance": [],
      "authorship_tag": "ABX9TyOMUSwr7qq82GY09w2JR901",
      "include_colab_link": true
    },
    "kernelspec": {
      "name": "python3",
      "display_name": "Python 3"
    }
  },
  "cells": [
    {
      "cell_type": "markdown",
      "metadata": {
        "id": "view-in-github",
        "colab_type": "text"
      },
      "source": [
        "<a href=\"https://colab.research.google.com/github/kslim1025/Tensorflow_Clab/blob/master/BostonHousingDataset.ipynb\" target=\"_parent\"><img src=\"https://colab.research.google.com/assets/colab-badge.svg\" alt=\"Open In Colab\"/></a>"
      ]
    },
    {
      "cell_type": "code",
      "metadata": {
        "id": "79IVe6VXHQSC",
        "colab_type": "code",
        "colab": {
          "base_uri": "https://localhost:8080/",
          "height": 102
        },
        "outputId": "a0b1f434-174d-4cf3-d56d-8d56ea1922cc"
      },
      "source": [
        "#딥러닝 네트워크를 이용한 회귀를 통해 보스턴 주택가격 데이터세트를 이용한 주택가격 예측 네트워크를 만들어보겠습니다.\n",
        "\n",
        "from tensorflow.keras.datasets import boston_housing\n",
        "(train_X, train_Y), (test_X, test_Y) = boston_housing.load_data();\n",
        "\n",
        "print(len(train_X), len(test_X));\n",
        "print(train_Y[0]);\n",
        "print(train_Y[0]);\n"
      ],
      "execution_count": 1,
      "outputs": [
        {
          "output_type": "stream",
          "text": [
            "Downloading data from https://storage.googleapis.com/tensorflow/tf-keras-datasets/boston_housing.npz\n",
            "57344/57026 [==============================] - 0s 0us/step\n",
            "404 102\n",
            "15.2\n",
            "15.2\n"
          ],
          "name": "stdout"
        }
      ]
    }
  ]
}