{
  "nbformat": 4,
  "nbformat_minor": 0,
  "metadata": {
    "colab": {
      "name": "NeuralNetwork_weight.ipynb",
      "provenance": [],
      "authorship_tag": "ABX9TyP2HwefDKHNJcg9L0hyUQem",
      "include_colab_link": true
    },
    "kernelspec": {
      "name": "python3",
      "display_name": "Python 3"
    }
  },
  "cells": [
    {
      "cell_type": "markdown",
      "metadata": {
        "id": "view-in-github",
        "colab_type": "text"
      },
      "source": [
        "<a href=\"https://colab.research.google.com/github/kslim1025/Tensorflow_Clab/blob/master/NeuralNetwork_weight.ipynb\" target=\"_parent\"><img src=\"https://colab.research.google.com/assets/colab-badge.svg\" alt=\"Open In Colab\"/></a>"
      ]
    },
    {
      "cell_type": "code",
      "metadata": {
        "id": "1xLs8OxOpuT6",
        "colab_type": "code",
        "colab": {
          "base_uri": "https://localhost:8080/",
          "height": 187
        },
        "outputId": "5d3a3b42-c797-4816-dbc8-e8246841d795"
      },
      "source": [
        "#ctrl+enter를 사용한 런타임가능\n",
        "try:\n",
        "  # %tensorflow_version only exists in Colab\n",
        "  %tensorflow_version 2.x\n",
        "except Exception:\n",
        "  pass\n",
        "import tensorflow as tf;\n",
        "import math as mt;\n",
        "\n",
        "def sigmoid(x):\n",
        "  return 1 / (1 + mt.exp(-x))\n",
        "\n",
        "# 여기서 뉴런이란 결국 w 값을 의미합니다.\n",
        "# 뉴런의 학습은 에러가 0에 가까워지게 해서 출력으로 기댓값에 가까운 값을 얻는 것입니다.\n",
        "\n",
        "x = 1;\n",
        "y = 0;\n",
        "w = tf.random.normal([1],0,1);\n",
        "# 실제 출력인 0.43007과 기대출력치인 0 차이인 0 - 0.43007 = - 0.43007을 에러(==error)로 표기한다. \n",
        "#output = sigmoid(x * w);\n",
        "#print(output);\n",
        "\n",
        "# w 값에 변화값을 주기 위해선 경사하강법을 사용하여 변화를 준다\n",
        "# w = w + x x a x error\n",
        "\n",
        "for i in range(1000):\n",
        "  output = sigmoid(x * w)\n",
        "  error = y - output\n",
        "  w = w + x * 0.1 * error\n",
        "\n",
        "  if i % 100 == 99:\n",
        "    print(i, error, output);"
      ],
      "execution_count": 1,
      "outputs": [
        {
          "output_type": "stream",
          "text": [
            "99 -0.10159238358787996 0.10159238358787996\n",
            "199 -0.052199660399674185 0.052199660399674185\n",
            "299 -0.03477868178295887 0.03477868178295887\n",
            "399 -0.02599585008786106 0.02599585008786106\n",
            "499 -0.020726644277674046 0.020726644277674046\n",
            "599 -0.017221345731694777 0.017221345731694777\n",
            "699 -0.014724082127143384 0.014724082127143384\n",
            "799 -0.012855945178235547 0.012855945178235547\n",
            "899 -0.011406433542870952 0.011406433542870952\n",
            "999 -0.010249371007713878 0.010249371007713878\n"
          ],
          "name": "stdout"
        }
      ]
    }
  ]
}