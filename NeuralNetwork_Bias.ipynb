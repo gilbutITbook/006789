{
  "nbformat": 4,
  "nbformat_minor": 0,
  "metadata": {
    "colab": {
      "name": "NeuralNetwork_Bias.ipynb",
      "provenance": [],
      "authorship_tag": "ABX9TyOaUmyRNjp3FC2q/lLoXW0u",
      "include_colab_link": true
    },
    "kernelspec": {
      "name": "python3",
      "display_name": "Python 3"
    }
  },
  "cells": [
    {
      "cell_type": "markdown",
      "metadata": {
        "id": "view-in-github",
        "colab_type": "text"
      },
      "source": [
        "<a href=\"https://colab.research.google.com/github/kslim1025/Tensorflow_Clab/blob/master/NeuralNetwork_Bias.ipynb\" target=\"_parent\"><img src=\"https://colab.research.google.com/assets/colab-badge.svg\" alt=\"Open In Colab\"/></a>"
      ]
    },
    {
      "cell_type": "code",
      "metadata": {
        "id": "1xLs8OxOpuT6",
        "colab_type": "code",
        "colab": {
          "base_uri": "https://localhost:8080/",
          "height": 187
        },
        "outputId": "24b815eb-28b1-459d-93e0-2cdf6193302f"
      },
      "source": [
        "#ctrl+enter를 사용한 런타임가능\n",
        "try:\n",
        "  # %tensorflow_version only exists in Colab\n",
        "  %tensorflow_version 2.x\n",
        "except Exception:\n",
        "  pass\n",
        "import tensorflow as tf;\n",
        "import math as mt;\n",
        "\n",
        "def sigmoid(x):\n",
        "  return 1 / (1 + mt.exp(-x))\n",
        "\n",
        "# 여기서 뉴런이란 결국 w 값을 의미합니다.\n",
        "# 뉴런의 학습은 에러가 0에 가까워지게 해서 출력으로 기댓값에 가까운 값을 얻는 것입니다.\n",
        "\n",
        "x = 0;\n",
        "y = 1;\n",
        "w = tf.random.normal([1],0,1);\n",
        "b = tf.random.normal([1],0,1);\n",
        "\n",
        "# w = w + x * a * error\n",
        "# x=0일경우 값의 변화가 없다\n",
        "# 이경우는 편향(Bias)을 뉴런에 넣어줘서 값을 변환시킨다.\n",
        "# 편향이라는건 말그대로 늘 한쪽으로 치우친 고정된 값(예: 1)을 받아서 입력으로 0을 받았을때 뉴런이 아무것도 배우지 못하는 상황을 방지합니다.\n",
        "\n",
        "# 편향은 관용적으로 b라는 단어를 사용합니다\n",
        "#  Y는 출력값을 의미합니다\n",
        "#  Y = f(X*w+1*b)\n",
        "\n",
        "for i in range(1000):\n",
        "  output = sigmoid(x * w+1 * b)\n",
        "  error = y - output\n",
        "  w = w + x * 0.1 * error\n",
        "  b = b + 1 * 0.1 * error\n",
        "\n",
        "  if i % 100 == 99:\n",
        "    print(i, error, output);"
      ],
      "execution_count": 3,
      "outputs": [
        {
          "output_type": "stream",
          "text": [
            "99 0.09529937912188191 0.9047006208781181\n",
            "199 0.050403798379614506 0.9495962016203855\n",
            "299 0.03395877640878209 0.9660412235912179\n",
            "399 0.025531155777861803 0.9744688442221382\n",
            "499 0.020428668254285243 0.9795713317457148\n",
            "599 0.017014458106195285 0.9829855418938047\n",
            "699 0.014572214941862338 0.9854277850581377\n",
            "799 0.012739771522044974 0.987260228477955\n",
            "899 0.011314746003532994 0.988685253996467\n",
            "999 0.01017519359300234 0.9898248064069977\n"
          ],
          "name": "stdout"
        }
      ]
    }
  ]
}