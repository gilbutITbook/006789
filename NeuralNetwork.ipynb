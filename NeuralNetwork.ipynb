{
  "nbformat": 4,
  "nbformat_minor": 0,
  "metadata": {
    "colab": {
      "name": "NeuralNetwork.ipynb",
      "provenance": [],
      "authorship_tag": "ABX9TyPy245EA5V+2gpAok3fKqdr",
      "include_colab_link": true
    },
    "kernelspec": {
      "name": "python3",
      "display_name": "Python 3"
    }
  },
  "cells": [
    {
      "cell_type": "markdown",
      "metadata": {
        "id": "view-in-github",
        "colab_type": "text"
      },
      "source": [
        "<a href=\"https://colab.research.google.com/github/kslim1025/Tensorflow_Clab/blob/master/NeuralNetwork.ipynb\" target=\"_parent\"><img src=\"https://colab.research.google.com/assets/colab-badge.svg\" alt=\"Open In Colab\"/></a>"
      ]
    },
    {
      "cell_type": "code",
      "metadata": {
        "id": "1xLs8OxOpuT6",
        "colab_type": "code",
        "colab": {
          "base_uri": "https://localhost:8080/",
          "height": 34
        },
        "outputId": "188898bd-b20d-4769-dd21-018a9cf26ddf"
      },
      "source": [
        "#ctrl+enter를 사용한 런타임가능\n",
        "try:\n",
        "  # %tensorflow_version only exists in Colab\n",
        "  %tensorflow_version 2.x\n",
        "except Exception:\n",
        "  pass\n",
        "import tensorflow as tf;\n",
        "import math as mt;\n",
        "\n",
        "def sigmoid(x):\n",
        "  return 1 / (1 + mt.exp(-x))\n",
        "\n",
        "# 여기서 뉴런이란 결국 w 값을 의미합니다.\n",
        "# 뉴런의 학습은 에러가 0에 가까워지게 해서 출력으로 기댓값에 가까운 값을 얻는 것입니다.\n",
        "\n",
        "x = 1;\n",
        "y = 0;\n",
        "w = tf.random.normal([1],0,1);\n",
        "output = sigmoid(x * w);\n",
        "print(output);"
      ],
      "execution_count": null,
      "outputs": [
        {
          "output_type": "stream",
          "text": [
            "0.2671858088285139\n"
          ],
          "name": "stdout"
        }
      ]
    }
  ]
}