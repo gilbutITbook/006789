{
  "nbformat": 4,
  "nbformat_minor": 0,
  "metadata": {
    "colab": {
      "name": "ComputeLoss.ipynb",
      "provenance": [],
      "collapsed_sections": [],
      "authorship_tag": "ABX9TyOaKHhb42GIVaeWMLkMAflQ",
      "include_colab_link": true
    },
    "kernelspec": {
      "name": "python3",
      "display_name": "Python 3"
    }
  },
  "cells": [
    {
      "cell_type": "markdown",
      "metadata": {
        "id": "view-in-github",
        "colab_type": "text"
      },
      "source": [
        "<a href=\"https://colab.research.google.com/github/kslim1025/Tensorflow_Clab/blob/master/ComputeLoss.ipynb\" target=\"_parent\"><img src=\"https://colab.research.google.com/assets/colab-badge.svg\" alt=\"Open In Colab\"/></a>"
      ]
    },
    {
      "cell_type": "code",
      "metadata": {
        "id": "LRgyPno7u6uI",
        "colab_type": "code",
        "colab": {
          "base_uri": "https://localhost:8080/",
          "height": 449
        },
        "outputId": "3663c4a4-fd4d-4950-9f12-cc6401442f0e"
      },
      "source": [
        "#ctrl+enter를 사용한 런타임가능\n",
        "try:\n",
        "  # %tensorflow_version only exists in Colab\n",
        "  %tensorflow_version 2.x\n",
        "except Exception:\n",
        "  pass\n",
        "# 넘파이는 수학과 과학 연산에 특화된 파이썬 모듈로 딥러닝에서도 유용하게 사용된다.\n",
        "import numpy as np;\n",
        "import tensorflow as tf;\n",
        "import matplotlib.pyplot as plt;\n",
        "from keras.datasets import mnist\n",
        "from keras.utils import np_utils\n",
        "from keras.models import Sequential\n",
        "from keras.layers import Dense\n",
        "import random;\n",
        "\n",
        "X = [0.3, -0.78, 1.26, 0.03, 1.11, 0.24, -0.24, -0.47, -0.77, -0.37, -0.37, -0.85, -0.41, -0.27, 0.02, -0.76, 2.66];\n",
        "Y = [12.27, 14.44, 11.87, 18.75, 17.52, 16.37, 19.38, 19.51, 12,65, 14.74, 10.72, 21.94, 12.83, 15.51, 17.74, 14.42];\n",
        "\n",
        "#X,Y평균을 구합니다\n",
        "x_bar = sum(X) / len(X);\n",
        "y_bar = sum(Y) / len(Y);\n",
        "\n",
        "#a,b를 랜덤한 값으로 초기화 합니다\n",
        "a = tf.Variable(random.random());\n",
        "b = tf.Variable(random.random());\n",
        "\n",
        "#전치의 제곱의 편균을 반환하는 함수입니다\n",
        "def compute_loss():\n",
        "  y_pred = a * X + b;\n",
        "  loss = tf.reduce_mean((Y - y_pred) ** 2);\n",
        "  return loss;\n",
        "\n",
        "optimizer = tf.optimizers.Adam(lr = 0.07)\n",
        "for i in range(1000):\n",
        "  #잔차의 제곱의 평균을 최소화합니다\n",
        "  optimizer.minimize(compute_loss, var_list=[a,b]);\n",
        "\n",
        "  if i % 100 == 99:\n",
        "    print(i, 'a:', a.numpy(), 'b:', b.numpy(), 'loss :', compute_loss().numpy())\n",
        "\n",
        "\n",
        "#그래프를 그리기 위해 회귀선의 x,y데이터를 구합니다\n",
        "line_x = np.arange(min(X), max(X), 0.01);\n",
        "line_y = a * line_x + b;\n",
        "\n",
        "#붉은색 실선으로 회귀선을 그립니다\n",
        "plt.plot(line_x, line_y, 'r-');\n",
        "plt.plot(X,Y,'bo')\n",
        "plt.xlabel('Population Growth Rate (%)');\n",
        "plt.ylabel('Elderly Population Rate (%)');\n",
        "plt.show()"
      ],
      "execution_count": 5,
      "outputs": [
        {
          "output_type": "stream",
          "text": [
            "99 a: -1.480525 b: 7.354198 loss : 267.58844\n",
            "199 a: -1.6185005 b: 12.218578 loss : 182.22806\n",
            "299 a: -1.70075 b: 15.413009 loss : 151.90321\n",
            "399 a: -1.7468516 b: 17.208899 loss : 143.81259\n",
            "499 a: -1.7687474 b: 18.062338 loss : 142.2277\n",
            "599 a: -1.7775325 b: 18.404787 loss : 142.0011\n",
            "699 a: -1.7805159 b: 18.521076 loss : 141.97748\n",
            "799 a: -1.7813733 b: 18.554502 loss : 141.9757\n",
            "899 a: -1.7815815 b: 18.562613 loss : 141.97557\n",
            "999 a: -1.7816238 b: 18.564262 loss : 141.97557\n"
          ],
          "name": "stdout"
        },
        {
          "output_type": "display_data",
          "data": {
            "image/png": "[encoded data removed]",
            "text/plain": [
              "<Figure size 432x288 with 1 Axes>"
            ]
          },
          "metadata": {
            "tags": [],
            "needs_background": "light"
          }
        }
      ]
    }
  ]
}