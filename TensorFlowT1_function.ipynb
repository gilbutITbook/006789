{
  "nbformat": 4,
  "nbformat_minor": 0,
  "metadata": {
    "colab": {
      "name": "TensorFlowT1_function.ipynb",
      "provenance": [],
      "collapsed_sections": [],
      "authorship_tag": "ABX9TyNcO6K/tcsNjDcOe0G4VTxz",
      "include_colab_link": true
    },
    "kernelspec": {
      "name": "python3",
      "display_name": "Python 3"
    }
  },
  "cells": [
    {
      "cell_type": "markdown",
      "metadata": {
        "id": "view-in-github",
        "colab_type": "text"
      },
      "source": [
        "<a href=\"https://colab.research.google.com/github/kslim1025/Tensorflow_Clab/blob/master/TensorFlowT1_function.ipynb\" target=\"_parent\"><img src=\"https://colab.research.google.com/assets/colab-badge.svg\" alt=\"Open In Colab\"/></a>"
      ]
    },
    {
      "cell_type": "code",
      "metadata": {
        "id": "y_hb40psUEPY",
        "colab_type": "code",
        "colab": {
          "base_uri": "https://localhost:8080/",
          "height": 34
        },
        "outputId": "aed97f42-018e-4b57-a213-70ae14ef6eda"
      },
      "source": [
        "#ctrl+enter를 사용한 런타임가능\n",
        "import tensorflow as tf;\n",
        "\n",
        "@tf.function\n",
        "def add_1_or_10(x,b):\n",
        "  if b:\n",
        "    x +=1.\n",
        "  else:\n",
        "    x +=10.\n",
        "  return x\n",
        "\n",
        "result = add_1_or_10(tf.constant(1.), True).numpy()\n",
        "print(result)"
      ],
      "execution_count": 11,
      "outputs": [
        {
          "output_type": "stream",
          "text": [
            "2.0\n"
          ],
          "name": "stdout"
        }
      ]
    }
  ]
}