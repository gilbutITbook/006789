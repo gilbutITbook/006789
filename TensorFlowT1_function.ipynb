{
  "nbformat": 4,
  "nbformat_minor": 0,
  "metadata": {
    "colab": {
      "name": "TensorFlowT1_function.ipynb",
      "provenance": [],
      "collapsed_sections": [],
      "authorship_tag": "ABX9TyOpYjepCqz4EpA3dOiRUr99",
      "include_colab_link": true
    },
    "kernelspec": {
      "name": "python3",
      "display_name": "Python 3"
    }
  },
  "cells": [
    {
      "cell_type": "markdown",
      "metadata": {
        "id": "view-in-github",
        "colab_type": "text"
      },
      "source": [
        "<a href=\"https://colab.research.google.com/github/kslim1025/006789/blob/master/TensorFlowT1_function.ipynb\" target=\"_parent\"><img src=\"https://colab.research.google.com/assets/colab-badge.svg\" alt=\"Open In Colab\"/></a>"
      ]
    },
    {
      "cell_type": "code",
      "metadata": {
        "id": "y_hb40psUEPY",
        "colab_type": "code",
        "colab": {
          "base_uri": "https://localhost:8080/",
          "height": 34
        },
        "outputId": "d3a8daec-68aa-446b-e9d3-8abc67953497"
      },
      "source": [
        "import tensorflow as tf;\n",
        "\n",
        "@tf.function\n",
        "def add_1_or_10(x,b):\n",
        "  if b:\n",
        "    x +=1.\n",
        "  else:\n",
        "    x +=10.\n",
        "  return x\n",
        "\n",
        "result = add_1_or_10(tf.constant(1.), True).numpy()\n",
        "print(result)"
      ],
      "execution_count": 10,
      "outputs": [
        {
          "output_type": "stream",
          "text": [
            "2.0\n"
          ],
          "name": "stdout"
        }
      ]
    }
  ]
}